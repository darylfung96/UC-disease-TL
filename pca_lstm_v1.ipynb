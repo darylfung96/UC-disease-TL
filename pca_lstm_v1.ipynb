{
  "nbformat": 4,
  "nbformat_minor": 0,
  "metadata": {
    "colab": {
      "name": "pca_lstm_v1.ipynb",
      "provenance": [],
      "collapsed_sections": []
    },
    "kernelspec": {
      "name": "python3",
      "display_name": "Python 3"
    },
    "language_info": {
      "name": "python"
    }
  },
  "cells": [
    {
      "cell_type": "code",
      "metadata": {
        "id": "Zvq7llQFmq5U"
      },
      "source": [
        "from pytorch_lightning.trainer import Trainer\n",
        "from pytorch_lightning.callbacks.early_stopping import EarlyStopping\n",
        "from pytorch_lightning.callbacks import ModelCheckpoint\n",
        "from torch.utils.data import DataLoader\n",
        "from sklearn.model_selection import KFold\n",
        "import random\n",
        "import numpy as np\n",
        "import torch\n",
        "import sklearn\n",
        "from sklearn import decomposition\n",
        "from sklearn.decomposition import PCA\n",
        "from data_preprocessing import process_data\n",
        "from dataset import MMCDataset\n",
        "from model import LightningLSTM"
      ],
      "execution_count": null,
      "outputs": []
    },
    {
      "cell_type": "code",
      "metadata": {
        "id": "RsxnIu26m1Gv"
      },
      "source": [
        "sorted_data, sorted_length, target_data = process_data()\n",
        "print(sorted_data.shape)\n",
        "sorted_data\n",
        "type(sorted_data)\n",
        "np.reshape(sorted_data, [-1, 1015])\n",
        "sorted_data = np.reshape(sorted_data,[-1,1015])\n",
        "sorted_data.shape"
      ],
      "execution_count": null,
      "outputs": []
    },
    {
      "cell_type": "code",
      "metadata": {
        "id": "t01eLRBOm5OO"
      },
      "source": [
        "pca = PCA(n_components=400)\n",
        "#pca = decomposition.PCA()\n",
        "data_pca = pca.fit_transform(sorted_data)\n",
        "data_pca = np.reshape(data_pca, [404, 6, 400])\n",
        "print(data_pca.shape)"
      ],
      "execution_count": null,
      "outputs": []
    },
    {
      "cell_type": "code",
      "metadata": {
        "id": "OD7-hraDm-bq"
      },
      "source": [
        "kf = KFold(n_splits=5)\n",
        "for index, (train_index, test_index) in enumerate(kf.split(data_pca)):\n",
        "    random.seed(100)\n",
        "    np.random.seed(100)\n",
        "    torch.manual_seed(100)\n",
        "\n",
        "    X_train = data_pca[train_index]\n",
        "    X_train_length = sorted_length[train_index]\n",
        "    y_train = target_data[train_index]\n",
        "\n",
        "    X_test = data_pca[test_index]\n",
        "    X_test_length = sorted_length[test_index]\n",
        "    y_test = target_data[test_index]\n",
        "\n",
        "    train_dataset = MMCDataset(X_train, X_train_length, y_train)\n",
        "    test_dataset = MMCDataset(X_test, X_test_length, y_test)\n",
        "    train_data_loader = DataLoader(train_dataset, batch_size=64)\n",
        "    test_data_loader = DataLoader(test_dataset, batch_size=64)\n",
        "\n",
        "\n",
        "    lightning_lstm = LightningLSTM(input_size=train_dataset[0][0].shape[1], hidden_size=32, output_size=train_dataset.y.shape[1])\n",
        "    pl_trainer = Trainer(max_epochs=100, callbacks=[EarlyStopping(monitor='validation_loss', patience=6)],\n",
        "                                                    checkpoint_callback=ModelCheckpoint('saved_model/model', monitor='validation_loss',\n",
        "                                                                                        save_top_k=1, prefix=f'kfold_{index}'))\n",
        "    pl_trainer.fit(lightning_lstm, train_data_loader, test_data_loader)"
      ],
      "execution_count": null,
      "outputs": []
    }
  ]
}